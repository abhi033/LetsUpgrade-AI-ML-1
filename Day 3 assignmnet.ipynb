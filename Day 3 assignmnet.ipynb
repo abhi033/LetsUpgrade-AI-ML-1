{
 "cells": [
  {
   "cell_type": "code",
   "execution_count": 1,
   "metadata": {},
   "outputs": [
    {
     "data": {
      "text/plain": [
       "'C:\\\\Users\\\\admin'"
      ]
     },
     "execution_count": 1,
     "metadata": {},
     "output_type": "execute_result"
    }
   ],
   "source": [
    "import os\n",
    "os.getcwd()"
   ]
  },
  {
   "cell_type": "code",
   "execution_count": 2,
   "metadata": {},
   "outputs": [
    {
     "name": "stdout",
     "output_type": "stream",
     "text": [
      "(6+13j)\n"
     ]
    }
   ],
   "source": [
    "# Add any two complex number\n",
    "x = 3+4j\n",
    "y = 3+9j\n",
    "print(x+y)"
   ]
  },
  {
   "cell_type": "code",
   "execution_count": 3,
   "metadata": {},
   "outputs": [
    {
     "name": "stdout",
     "output_type": "stream",
     "text": [
      "3.0\n"
     ]
    }
   ],
   "source": [
    "# Fourth root of a number\n",
    "a = 81\n",
    "r = a ** (1/4)\n",
    "print(r)"
   ]
  },
  {
   "cell_type": "code",
   "execution_count": 4,
   "metadata": {},
   "outputs": [
    {
     "name": "stdout",
     "output_type": "stream",
     "text": [
      "After swaping value of a is: 10 \n",
      "After swaping value of b is: 5\n"
     ]
    }
   ],
   "source": [
    "# Swap Two number with the help of temporary number\n",
    "a = 5\n",
    "b = 10\n",
    "c = a\n",
    "a = b\n",
    "b = c\n",
    "print ('After swaping value of a is:',a , '\\nAfter swaping value of b is:',b)"
   ]
  },
  {
   "cell_type": "code",
   "execution_count": 5,
   "metadata": {},
   "outputs": [
    {
     "name": "stdout",
     "output_type": "stream",
     "text": [
      "After swaping value of no1 is: 20 \n",
      "After swaping value of no2 is: 10\n"
     ]
    }
   ],
   "source": [
    "# Swap two numbers without using a temporary variable\n",
    "no1 = 10\n",
    "no2 = 20\n",
    "no1 = no1 + no2\n",
    "no2 = no1 - no2\n",
    "no1 = no1 - no2\n",
    "print('After swaping value of no1 is:',no1 , '\\nAfter swaping value of no2 is:',no2)"
   ]
  },
  {
   "cell_type": "code",
   "execution_count": 8,
   "metadata": {},
   "outputs": [
    {
     "name": "stdout",
     "output_type": "stream",
     "text": [
      "Temprature in Fahrenheit:115\n",
      "Temprature in kelvin = 319.26111111111106 K\n",
      "Temprature in celsius =  46.111111111111114 C\n"
     ]
    }
   ],
   "source": [
    "# program to convert fahrenheit to kelvin and celsius both\n",
    "temp = int(input('Temprature in Fahrenheit:'))\n",
    "to_celsius = ((temp - 32) * 5/9)\n",
    "to_kelvin = (temp - 32) * 5/9 + 273.15\n",
    "print('Temprature in kelvin =',to_kelvin,'K')\n",
    "print('Temprature in celsius = ',to_celsius,'C')"
   ]
  },
  {
   "cell_type": "code",
   "execution_count": 9,
   "metadata": {},
   "outputs": [
    {
     "name": "stdout",
     "output_type": "stream",
     "text": [
      "<class 'int'>\n",
      "<class 'str'>\n",
      "<class 'complex'>\n",
      "<class 'float'>\n",
      "<class 'list'>\n",
      "<class 'tuple'>\n",
      "<class 'dict'>\n",
      "<class 'bool'>\n"
     ]
    }
   ],
   "source": [
    "# Demonstrate all the available data types in Python.\n",
    "print(type(111))                 # Integer type\n",
    "print(type('ABC'))               # String type \n",
    "print(type(3+4j))                # Complex type\n",
    "print(type(11.1))                # Float type\n",
    "print(type([1,2,3]))             # List type \n",
    "print(type((2,3,4)))             # Tuple type\n",
    "print(type({1:'ONE',2:'TWO'}))   # Dictionary type\n",
    "print(type(True))                # Boolean type"
   ]
  },
  {
   "cell_type": "markdown",
   "metadata": {},
   "source": [
    "# Headline1\n",
    "\n",
    "## Headline 2\n",
    "\n",
    "__Bold letters__\n",
    "\n",
    "___Bold and Italic letters___\n",
    "\n",
    "\n",
    "__Steps to create Github profile and upload Githubs Assignment link.__\n",
    "\n",
    "1. Click \"File\" option in notebook\n",
    "2. Go to \"Download As\" -> \"Notebook(.ipynb)\"\n",
    "3. Upload the downloaded .ipynb file to github and share the link in google form."
   ]
  }
 ],
 "metadata": {
  "kernelspec": {
   "display_name": "Python 3",
   "language": "python",
   "name": "python3"
  },
  "language_info": {
   "codemirror_mode": {
    "name": "ipython",
    "version": 3
   },
   "file_extension": ".py",
   "mimetype": "text/x-python",
   "name": "python",
   "nbconvert_exporter": "python",
   "pygments_lexer": "ipython3",
   "version": "3.7.4"
  }
 },
 "nbformat": 4,
 "nbformat_minor": 2
}
