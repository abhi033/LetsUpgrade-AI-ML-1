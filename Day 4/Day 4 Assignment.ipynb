{
 "cells": [
  {
   "cell_type": "code",
   "execution_count": 1,
   "metadata": {},
   "outputs": [
    {
     "name": "stdout",
     "output_type": "stream",
     "text": [
      "Addition is: (13+11j)\n",
      "Multiplication is: (8+79j)\n",
      "Subtraction is: (-5+3j)\n",
      "Division is: (0.6597938144329896+0.4845360824742268j)\n",
      "Exponantial is: (1092807.7797267016-1844484.1087983754j)\n"
     ]
    }
   ],
   "source": [
    "#  Apply Addition, Multiplication, Subtraction and division on complex numbers\n",
    "a = 4+7j\n",
    "b = 9+4j\n",
    "print('Addition is:', a+b)\n",
    "print('Multiplication is:', a*b)\n",
    "print('Subtraction is:', a-b)\n",
    "print('Division is:', a/b)\n",
    "print('Exponantial is:', a**b)"
   ]
  },
  {
   "cell_type": "markdown",
   "metadata": {},
   "source": [
    "__If we apply floor Division and modulo on complex numbers it will give us an 'TypeError'__"
   ]
  },
  {
   "cell_type": "markdown",
   "metadata": {},
   "source": [
    "___range() function is used to generate a series of numbers in a given range. It is bydefault starts from 0 element. range() function commmonly used for looping. We can adjust our range according to our problem.___"
   ]
  },
  {
   "cell_type": "code",
   "execution_count": 2,
   "metadata": {},
   "outputs": [
    {
     "name": "stdout",
     "output_type": "stream",
     "text": [
      "0\n",
      "1\n",
      "2\n",
      "3\n",
      "4\n",
      "5\n",
      "6\n",
      "7\n",
      "8\n",
      "9\n"
     ]
    }
   ],
   "source": [
    "# Program on range funtion\n",
    "for i in range(10):\n",
    "    print(i)"
   ]
  },
  {
   "cell_type": "code",
   "execution_count": 3,
   "metadata": {},
   "outputs": [
    {
     "name": "stdout",
     "output_type": "stream",
     "text": [
      "Division of 2 numbers is: 3.0\n"
     ]
    }
   ],
   "source": [
    "# solution of Question 3:\n",
    "no1 = 21\n",
    "no2 = 7\n",
    "sub = no1 - no2\n",
    "if (sub>25):\n",
    "    print('Multiplication of 2 numbers is:', no1*no2)\n",
    "else: print('Division of 2 numbers is:', no1/no2)"
   ]
  },
  {
   "cell_type": "code",
   "execution_count": 4,
   "metadata": {},
   "outputs": [
    {
     "name": "stdout",
     "output_type": "stream",
     "text": [
      "98\n",
      "398\n",
      "898\n",
      "1598\n",
      "2498\n"
     ]
    }
   ],
   "source": [
    "# Solution of Question 4\n",
    "l1 = [5,10,15,20,25,30,35,40,45,50]\n",
    "for i in l1:\n",
    "    if (i%2 == 0):\n",
    "        print((i**2)-2)"
   ]
  },
  {
   "cell_type": "code",
   "execution_count": 5,
   "metadata": {},
   "outputs": [
    {
     "name": "stdout",
     "output_type": "stream",
     "text": [
      "12\n",
      "18\n",
      "24\n",
      "30\n"
     ]
    }
   ],
   "source": [
    "# Solution of Question 5\n",
    "l2 = [3,6,9,12,15,18,21,24,27,30]\n",
    "for j in l2:\n",
    "    if (j>7):\n",
    "        if j%2 == 0:\n",
    "            print(j)"
   ]
  }
 ],
 "metadata": {
  "kernelspec": {
   "display_name": "Python 3",
   "language": "python",
   "name": "python3"
  },
  "language_info": {
   "codemirror_mode": {
    "name": "ipython",
    "version": 3
   },
   "file_extension": ".py",
   "mimetype": "text/x-python",
   "name": "python",
   "nbconvert_exporter": "python",
   "pygments_lexer": "ipython3",
   "version": "3.7.4"
  }
 },
 "nbformat": 4,
 "nbformat_minor": 2
}
