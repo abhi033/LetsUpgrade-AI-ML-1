{
 "cells": [
  {
   "cell_type": "markdown",
   "metadata": {},
   "source": [
    "__Solutin of question 1__"
   ]
  },
  {
   "cell_type": "code",
   "execution_count": 25,
   "metadata": {},
   "outputs": [
    {
     "name": "stdout",
     "output_type": "stream",
     "text": [
      "yahoo\n"
     ]
    }
   ],
   "source": [
    "\n",
    "s = 'xyz@yahoo.com'\n",
    "cname = s[4:9]\n",
    "print(cname)"
   ]
  },
  {
   "cell_type": "markdown",
   "metadata": {},
   "source": []
  },
  {
   "cell_type": "code",
   "execution_count": 29,
   "metadata": {},
   "outputs": [
    {
     "name": "stdout",
     "output_type": "stream",
     "text": [
      "['name', 'hey', 'usa', 'cow']\n",
      "['cow', 'hey', 'name', 'usa']\n"
     ]
    }
   ],
   "source": [
    "# comma-separated sequence after sorting them alphabetically\n",
    "char = 'name','hey','usa','cow'\n",
    "print(list(char))\n",
    "print(sorted(char))"
   ]
  },
  {
   "cell_type": "markdown",
   "metadata": {},
   "source": [
    "# Set\n",
    "\n",
    "__A set is a collection which is unordered and unindexed. In Python sets are written with curly brackets.__\n"
   ]
  },
  {
   "cell_type": "code",
   "execution_count": 42,
   "metadata": {},
   "outputs": [
    {
     "name": "stdout",
     "output_type": "stream",
     "text": [
      "{'sham', 'sam', 'ram', 'sac'}\n",
      "<class 'set'>\n"
     ]
    }
   ],
   "source": [
    "s = {'ram','sam','sham','sac'}\n",
    "print(s)\n",
    "print(type(s))"
   ]
  },
  {
   "cell_type": "code",
   "execution_count": 39,
   "metadata": {},
   "outputs": [
    {
     "name": "stdout",
     "output_type": "stream",
     "text": [
      "{'sham', 'ram', 'sam', 'sac', 'mohan'}\n",
      "{'sham', 'ram', 'sam', 'sac'}\n"
     ]
    }
   ],
   "source": [
    "s.add(\"mohan\") # Add 'mohan to set s'\n",
    "print(s)\n",
    "\n",
    "s.remove(\"mohan\") # Remove 'mohan from the set s'\n",
    "print(s)"
   ]
  },
  {
   "cell_type": "code",
   "execution_count": 38,
   "metadata": {},
   "outputs": [
    {
     "name": "stdout",
     "output_type": "stream",
     "text": [
      "sham\n",
      "ram\n",
      "sam\n",
      "sac\n",
      "mohan\n"
     ]
    }
   ],
   "source": [
    "# Acess all items of set through loop\n",
    "for i in s:\n",
    "    print(i)"
   ]
  },
  {
   "cell_type": "markdown",
   "metadata": {},
   "source": [
    "***pop()*** : __We can use this function to remove last item from the set.__"
   ]
  },
  {
   "cell_type": "code",
   "execution_count": 43,
   "metadata": {},
   "outputs": [
    {
     "name": "stdout",
     "output_type": "stream",
     "text": [
      "sham\n",
      "{'sam', 'ram', 'sac'}\n"
     ]
    }
   ],
   "source": [
    "pop = s.pop()\n",
    "print(pop)\n",
    "print(s)"
   ]
  },
  {
   "cell_type": "markdown",
   "metadata": {},
   "source": [
    "***clear()*** : __This method empties the set.__ "
   ]
  },
  {
   "cell_type": "code",
   "execution_count": 45,
   "metadata": {},
   "outputs": [
    {
     "name": "stdout",
     "output_type": "stream",
     "text": [
      "set()\n"
     ]
    }
   ],
   "source": [
    "s.clear()\n",
    "print(s)"
   ]
  },
  {
   "cell_type": "markdown",
   "metadata": {},
   "source": [
    "***del()*** : __'del' keyword will delete the set completely.__"
   ]
  },
  {
   "cell_type": "code",
   "execution_count": 48,
   "metadata": {
    "collapsed": true
   },
   "outputs": [
    {
     "ename": "NameError",
     "evalue": "name 's' is not defined",
     "output_type": "error",
     "traceback": [
      "\u001b[1;31m-------------------------------------------------------------\u001b[0m",
      "\u001b[1;31mNameError\u001b[0m                   Traceback (most recent call last)",
      "\u001b[1;32m<ipython-input-48-5477e9d4b00d>\u001b[0m in \u001b[0;36m<module>\u001b[1;34m\u001b[0m\n\u001b[1;32m----> 1\u001b[1;33m \u001b[1;32mdel\u001b[0m \u001b[0ms\u001b[0m\u001b[1;33m\u001b[0m\u001b[1;33m\u001b[0m\u001b[0m\n\u001b[0m\u001b[0;32m      2\u001b[0m \u001b[0mprint\u001b[0m\u001b[1;33m(\u001b[0m\u001b[0ms\u001b[0m\u001b[1;33m)\u001b[0m\u001b[1;33m\u001b[0m\u001b[1;33m\u001b[0m\u001b[0m\n",
      "\u001b[1;31mNameError\u001b[0m: name 's' is not defined"
     ]
    }
   ],
   "source": [
    "del s\n",
    "print(s) # Error: 's' is not define"
   ]
  },
  {
   "cell_type": "markdown",
   "metadata": {},
   "source": [
    "__Solution fo Question no. 4__"
   ]
  },
  {
   "cell_type": "code",
   "execution_count": 57,
   "metadata": {},
   "outputs": [
    {
     "name": "stdout",
     "output_type": "stream",
     "text": [
      "Missing number in the series is: 3\n"
     ]
    }
   ],
   "source": [
    "# program to find the missing number from the series list\n",
    "l =[1,4,5,2,6]\n",
    "for i in range(1,7):\n",
    "    if i not in l:\n",
    "        print('Missing number in the series is:',i)"
   ]
  },
  {
   "cell_type": "markdown",
   "metadata": {},
   "source": [
    "__Solution of Question no. 5__"
   ]
  },
  {
   "cell_type": "code",
   "execution_count": 61,
   "metadata": {},
   "outputs": [
    {
     "name": "stdout",
     "output_type": "stream",
     "text": [
      "Original list after removing duplicate values: [12, 15, 18, 21, 24, 27, 30]\n"
     ]
    }
   ],
   "source": [
    "# program to print this list L after removing all duplicate values with original order reserved.\n",
    "l1 = [12,15,18,15,21,18,24,27,24,15,30]\n",
    "l2 = []\n",
    "for i in l1:\n",
    "    if i not in l2:\n",
    "        l2.append(i)\n",
    "print('Original list after removing duplicate values:',list(l2))"
   ]
  }
 ],
 "metadata": {
  "kernelspec": {
   "display_name": "Python 3",
   "language": "python",
   "name": "python3"
  },
  "language_info": {
   "codemirror_mode": {
    "name": "ipython",
    "version": 3
   },
   "file_extension": ".py",
   "mimetype": "text/x-python",
   "name": "python",
   "nbconvert_exporter": "python",
   "pygments_lexer": "ipython3",
   "version": "3.7.4"
  }
 },
 "nbformat": 4,
 "nbformat_minor": 2
}
