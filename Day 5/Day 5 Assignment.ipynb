{
 "cells": [
  {
   "cell_type": "code",
   "execution_count": 1,
   "metadata": {},
   "outputs": [
    {
     "name": "stdout",
     "output_type": "stream",
     "text": [
      "3 ; 5 ; 7 ; 11 ; 13 ; 17 ; 19 ; 23 ; 29 ; 31 ; 37 ; 41 ; 43 ; 47 ; 53 ; 59 ; 61 ; 67 ; 71 ; 73 ; "
     ]
    }
   ],
   "source": [
    "# Program to find the first 20 non-even prime natural numbers\n",
    "for i in range(1,75,2):\n",
    "    for j in range(2,i):\n",
    "        if (i%j) == 0: break\n",
    "        else:\n",
    "            if j == i//2 + 1:\n",
    "                print(i, end= \" ; \")"
   ]
  },
  {
   "cell_type": "code",
   "execution_count": 2,
   "metadata": {},
   "outputs": [
    {
     "name": "stdout",
     "output_type": "stream",
     "text": [
      "3 ; 5 ; 7 ; 11 ; 13 ; 17 ; 19 ; 23 ; 29 ; 31 ; 37 ; 41 ; 43 ; 47 ; 53 ; 59 ; 61 ; 67 ; 71 ; 73 ; "
     ]
    }
   ],
   "source": [
    "#  Another way to find the first 20 non-even prime natural numbers \n",
    "for i in range(3,75,2):\n",
    "    for j in range(2,i):\n",
    "        if (i%j) == 0 :\n",
    "            break\n",
    "    else: print(i,end=' ; ')"
   ]
  },
  {
   "cell_type": "code",
   "execution_count": 3,
   "metadata": {},
   "outputs": [
    {
     "name": "stdout",
     "output_type": "stream",
     "text": [
      "1.Convert string to upper case: HE WAS A BORN IN 1997.\n",
      "2.Convert string to Lower case: he was a born in 1997.\n",
      "3.Any digit value present in string: False\n",
      "4.Number of time character 'a' present in string: 2\n",
      "5.Swap both cases of string(lower to upper and vice-versa: hE WAS A BORN IN 1997.\n",
      "6.Replace any cahracter or value of string(1997 to 2000: He was a born in 2000.\n",
      "7.Make a centered string : -----------He was a born in 1997.-----------\n",
      "8.Right justified version of a string -----------He was a born in 1997.\n",
      "9.Search a string of a specified character index value(in): 14\n",
      "10.Convert to first character of each word to upper case: He Was A Born In 1997.\n",
      "11.Convert to first character of string to upper case: He was a born in 1997.\n",
      "12.Fill the string with a specified no. of '0' values at the begining: 00000000000000000000He was a born in 1997.\n",
      "13.Find any letter in string in between given index values: 7\n",
      "14.Is all character in string is alphabet: False\n",
      "15.Is all character in string is numeric: False\n"
     ]
    }
   ],
   "source": [
    "# Program to implement 15 functions of string.\n",
    "string = \"He was a born in 1997.\"\n",
    "\n",
    "print(\"1.Convert string to upper case:\",string.upper())\n",
    "print(\"2.Convert string to Lower case:\",string.lower())\n",
    "print(\"3.Any digit value present in string:\",string.isdigit())\n",
    "print(\"4.Number of time character 'a' present in string:\", string.count('a'))\n",
    "print('5.Swap both cases of string(lower to upper and vice-versa:',string.swapcase())\n",
    "print(\"6.Replace any cahracter or value of string(1997 to 2000:\",string.replace('1997','2000'))\n",
    "print(\"7.Make a centered string :\",string.center(44,'-'))\n",
    "print(\"8.Right justified version of a string\",string.rjust(33,'-'))\n",
    "print(\"9.Search a string of a specified character index value(in):\", string.rindex('in'))\n",
    "print(\"10.Convert to first character of each word to upper case:\",string.title())\n",
    "print(\"11.Convert to first character of string to upper case:\",string.capitalize())\n",
    "print(\"12.Fill the string with a specified no. of '0' values at the begining:\",string.zfill(42))\n",
    "print(\"13.Find any letter in string in between given index values:\",string.find('a',5))\n",
    "print(\"14.Is all character in string is alphabet:\", string.isalpha())\n",
    "print(\"15.Is all character in string is numeric:\",string.isalnum())"
   ]
  },
  {
   "cell_type": "code",
   "execution_count": null,
   "metadata": {},
   "outputs": [],
   "source": [
    "# program to check if the given string is a Palindrome or not\n",
    "pali_chk = input('String to check is palindrome or not:')\n",
    "strin = ''\n",
    "for i in pali_chk:\n",
    "    strin = i + strin\n",
    "    if (pali_chk == strin):\n",
    "        print(pali_chk, ' is palinsrome')\n",
    "if(pali_chk != strin): print(pali_chk,' is not a palindrome')\n"
   ]
  },
  {
   "cell_type": "code",
   "execution_count": 16,
   "metadata": {},
   "outputs": [
    {
     "name": "stdout",
     "output_type": "stream",
     "text": [
      " Given strings are Anagram \n"
     ]
    }
   ],
   "source": [
    "# program to check if the given string is a Anagram or not\n",
    "str1 = 'sachi'\n",
    "str2 = 'ishac'\n",
    " #     for i in range(0, n1):\n",
    "if (sorted(str1) == sorted(str2)):\n",
    "    print(' Given strings are Anagram ')\n",
    "else: print('Given strings are not a Anagram ')"
   ]
  },
  {
   "cell_type": "code",
   "execution_count": 13,
   "metadata": {},
   "outputs": [
    {
     "name": "stdout",
     "output_type": "stream",
     "text": [
      "drdarshaningleaimltrainer\n"
     ]
    }
   ],
   "source": [
    "# Solution of Question 4\n",
    "def lowers():\n",
    "    st = 'Dr. Darshan Ingle @AI-ML Trainer'\n",
    "    l = ['.',' ','@','-']\n",
    "    for i in l:\n",
    "        st = st.replace(i , '')\n",
    "    print(str(st.lower()))\n",
    "\n",
    "a = lowers()"
   ]
  }
 ],
 "metadata": {
  "kernelspec": {
   "display_name": "Python 3",
   "language": "python",
   "name": "python3"
  },
  "language_info": {
   "codemirror_mode": {
    "name": "ipython",
    "version": 3
   },
   "file_extension": ".py",
   "mimetype": "text/x-python",
   "name": "python",
   "nbconvert_exporter": "python",
   "pygments_lexer": "ipython3",
   "version": "3.7.4"
  }
 },
 "nbformat": 4,
 "nbformat_minor": 2
}
